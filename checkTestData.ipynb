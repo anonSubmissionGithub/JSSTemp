{
 "cells": [
  {
   "cell_type": "code",
   "execution_count": 70,
   "id": "8774a90f",
   "metadata": {},
   "outputs": [],
   "source": [
    "Y_test =['Good', 'Good', 'Good', 'Good', 'Good', 'Good', 'Good', 'Good', 'Good', 'Good',\n",
    " 'Bad', 'Good', 'Good', 'Good', 'Good', 'Good', 'Bad', 'Bad', 'Good', 'Bad', 'Bad',\n",
    " 'Good', 'Good', 'Bad', 'Good', 'Good', 'Bad', 'Good', 'Good', 'Bad', 'Good', 'Good',\n",
    " 'Good', 'Bad', 'Good', 'Good', 'Good', 'Good', 'Good', 'Good', 'Bad', 'Good',\n",
    " 'Good', 'Bad', 'Bad', 'Bad', 'Bad', 'Bad', 'Bad', 'Bad', 'Bad', 'Good', 'Good',\n",
    " 'Bad', 'Good', 'Bad', 'Good', 'Good', 'Good', 'Good', 'Good', 'Bad', 'Bad', 'Good',\n",
    " 'Good', 'Good', 'Good', 'Bad', 'Good', 'Good', 'Good', 'Bad', 'Bad', 'Bad', 'Bad',\n",
    " 'Bad', 'Good', 'Good', 'Good', 'Bad', 'Good', 'Good', 'Good', 'Good', 'Good', 'Bad',\n",
    " 'Good', 'Good', 'Good', 'Bad', 'Good', 'Good', 'Good', 'Good', 'Bad', 'Good', 'Bad',\n",
    " 'Bad', 'Bad', 'Good', 'Good', 'Bad', 'Good', 'Good', 'Good', 'Good', 'Good', 'Good',\n",
    " 'Bad', 'Bad', 'Good', 'Bad', 'Good', 'Good', 'Good', 'Good', 'Good', 'Good', 'Good',\n",
    " 'Good', 'Good', 'Bad', 'Good', 'Bad', 'Good', 'Good', 'Good', 'Bad', 'Good', 'Good',\n",
    " 'Good', 'Good', 'Good', 'Bad', 'Bad', 'Bad', 'Bad', 'Good', 'Good', 'Good', 'Bad',\n",
    " 'Bad', 'Good', 'Good', 'Bad', 'Good', 'Good', 'Bad', 'Good', 'Bad', 'Good', 'Good',\n",
    " 'Bad', 'Bad', 'Good', 'Good', 'Bad', 'Good', 'Good', 'Good', 'Bad', 'Good', 'Bad',\n",
    " 'Bad', 'Bad', 'Bad', 'Good', 'Good', 'Good', 'Bad', 'Good', 'Good', 'Good', 'Bad',\n",
    " 'Good', 'Good', 'Good', 'Bad', 'Good', 'Good', 'Bad', 'Good', 'Good']\n",
    "\n"
   ]
  },
  {
   "cell_type": "code",
   "execution_count": 8,
   "id": "a9d4c58b",
   "metadata": {},
   "outputs": [
    {
     "data": {
      "text/plain": [
       "183"
      ]
     },
     "execution_count": 8,
     "metadata": {},
     "output_type": "execute_result"
    }
   ],
   "source": [
    "len(Y_test)"
   ]
  },
  {
   "cell_type": "code",
   "execution_count": 71,
   "id": "78d7748c",
   "metadata": {},
   "outputs": [],
   "source": [
    "codeBert = ['Good', 'Good', 'Good', 'Good', 'Good', 'Good', 'Good', 'Good', 'Good', 'Good',\n",
    " 'Bad', 'Good', 'Good', 'Good', 'Good', 'Good', 'Good', 'Good', 'Good', 'Good',\n",
    " 'Good', 'Good', 'Good', 'Good', 'Good', 'Good', 'Bad', 'Good', 'Good', 'Good',\n",
    " 'Good', 'Good', 'Good', 'Good', 'Good', 'Good', 'Good', 'Good', 'Good', 'Good',\n",
    " 'Good', 'Good', 'Good', 'Good', 'Good', 'Good', 'Good', 'Good', 'Good', 'Good',\n",
    " 'Bad', 'Good', 'Good', 'Good', 'Good', 'Good', 'Good', 'Good', 'Good', 'Good',\n",
    " 'Good', 'Good', 'Bad', 'Good', 'Good', 'Good', 'Good', 'Good', 'Good', 'Good',\n",
    " 'Good', 'Good', 'Good', 'Good', 'Good', 'Good', 'Good', 'Good', 'Good', 'Good',\n",
    " 'Good', 'Good', 'Good', 'Good', 'Good', 'Good', 'Good', 'Good', 'Good', 'Good',\n",
    " 'Good', 'Good', 'Good', 'Good', 'Bad', 'Good', 'Good', 'Good', 'Good', 'Good',\n",
    " 'Good', 'Good', 'Good', 'Good', 'Good', 'Good', 'Good', 'Good', 'Bad', 'Good',\n",
    " 'Good', 'Good', 'Good', 'Good', 'Good', 'Good', 'Good', 'Good', 'Good', 'Good',\n",
    " 'Good', 'Good', 'Good', 'Good', 'Good', 'Good', 'Good', 'Good', 'Good', 'Good',\n",
    " 'Good', 'Good', 'Good', 'Good', 'Bad', 'Bad', 'Good', 'Good', 'Good', 'Good',\n",
    " 'Good', 'Good', 'Good', 'Good', 'Good', 'Good', 'Good', 'Good', 'Good', 'Good',\n",
    " 'Good', 'Good', 'Good', 'Good', 'Good', 'Good', 'Good', 'Good', 'Good', 'Good',\n",
    " 'Good', 'Good', 'Good', 'Good', 'Good', 'Good', 'Good', 'Good', 'Good', 'Good',\n",
    " 'Good', 'Good', 'Good', 'Good', 'Good', 'Good', 'Good', 'Good', 'Good', 'Good',\n",
    " 'Good', 'Good', 'Good']\n"
   ]
  },
  {
   "cell_type": "code",
   "execution_count": 9,
   "id": "43d673d4",
   "metadata": {},
   "outputs": [
    {
     "data": {
      "text/plain": [
       "183"
      ]
     },
     "execution_count": 9,
     "metadata": {},
     "output_type": "execute_result"
    }
   ],
   "source": [
    "len(codeBert)"
   ]
  },
  {
   "cell_type": "code",
   "execution_count": 72,
   "id": "c65e1c86",
   "metadata": {},
   "outputs": [],
   "source": [
    "sbert = ['Good', 'Good', 'Good', 'Good', 'Bad', 'Good', 'Good', 'Good', 'Good', 'Good',\n",
    " 'Bad', 'Bad', 'Bad', 'Good', 'Good', 'Bad', 'Bad', 'Good', 'Bad', 'Good', 'Good',\n",
    " 'Bad', 'Bad', 'Bad', 'Good', 'Good', 'Bad', 'Good', 'Good', 'Good', 'Good', 'Good',\n",
    " 'Bad', 'Good', 'Good', 'Bad', 'Good', 'Good', 'Bad', 'Good', 'Bad', 'Good', 'Good',\n",
    " 'Good', 'Good', 'Good', 'Good', 'Good', 'Good', 'Good', 'Bad', 'Good', 'Good',\n",
    " 'Good', 'Good', 'Good', 'Good', 'Good', 'Good', 'Good', 'Good', 'Bad', 'Bad',\n",
    " 'Good', 'Good', 'Good', 'Good', 'Good', 'Good', 'Good', 'Good', 'Good', 'Good',\n",
    " 'Good', 'Bad', 'Bad', 'Good', 'Good', 'Good', 'Bad', 'Good', 'Good', 'Bad', 'Bad',\n",
    " 'Good', 'Bad', 'Bad', 'Good', 'Good', 'Bad', 'Good', 'Bad', 'Good', 'Good', 'Bad',\n",
    " 'Good', 'Bad', 'Bad', 'Bad', 'Good', 'Good', 'Bad', 'Good', 'Good', 'Good', 'Good',\n",
    " 'Good', 'Good', 'Bad', 'Bad', 'Good', 'Good', 'Good', 'Good', 'Good', 'Good',\n",
    " 'Good', 'Good', 'Good', 'Good', 'Good', 'Bad', 'Good', 'Bad', 'Good', 'Bad', 'Good',\n",
    " 'Good', 'Good', 'Bad', 'Good', 'Good', 'Bad', 'Bad', 'Bad', 'Bad', 'Bad', 'Good',\n",
    " 'Good', 'Good', 'Bad', 'Good', 'Good', 'Good', 'Good', 'Good', 'Good', 'Good',\n",
    " 'Bad', 'Good', 'Good', 'Good', 'Good', 'Good', 'Good', 'Good', 'Bad', 'Good',\n",
    " 'Good', 'Good', 'Good', 'Good', 'Bad', 'Bad', 'Good', 'Bad', 'Bad', 'Good', 'Bad',\n",
    " 'Good', 'Good', 'Good', 'Bad', 'Bad', 'Good', 'Good', 'Bad', 'Good', 'Good', 'Good',\n",
    " 'Bad', 'Good', 'Good']\n"
   ]
  },
  {
   "cell_type": "code",
   "execution_count": 11,
   "id": "a1fc5e3c",
   "metadata": {},
   "outputs": [
    {
     "data": {
      "text/plain": [
       "183"
      ]
     },
     "execution_count": 11,
     "metadata": {},
     "output_type": "execute_result"
    }
   ],
   "source": [
    "len(sbert)"
   ]
  },
  {
   "cell_type": "code",
   "execution_count": 73,
   "id": "4b2fe226",
   "metadata": {},
   "outputs": [],
   "source": [
    "code2vec = ['Good', 'Good', 'Good', 'Good', 'Good', 'Good', 'Good', 'Bad', 'Bad', 'Good', 'Bad',\n",
    " 'Good', 'Good', 'Good', 'Good', 'Bad', 'Bad', 'Good', 'Good', 'Good', 'Bad', 'Good',\n",
    " 'Good', 'Bad', 'Bad', 'Good', 'Bad', 'Good', 'Good', 'Bad', 'Good', 'Good', 'Good',\n",
    " 'Good', 'Good', 'Good', 'Good', 'Good', 'Good', 'Good', 'Good', 'Good', 'Good',\n",
    " 'Good', 'Bad', 'Bad', 'Good', 'Bad', 'Bad', 'Good', 'Bad', 'Good', 'Good', 'Good',\n",
    " 'Good', 'Good', 'Good', 'Good', 'Good', 'Good', 'Good', 'Bad', 'Bad', 'Bad', 'Bad',\n",
    " 'Good', 'Good', 'Good', 'Good', 'Good', 'Good', 'Good', 'Good', 'Good', 'Good',\n",
    " 'Good', 'Good', 'Good', 'Good', 'Good', 'Good', 'Good', 'Good', 'Good', 'Good',\n",
    " 'Bad', 'Good', 'Good', 'Good', 'Good', 'Good', 'Bad', 'Good', 'Good', 'Bad', 'Bad',\n",
    " 'Bad', 'Good', 'Good', 'Good', 'Good', 'Bad', 'Good', 'Good', 'Good', 'Good',\n",
    " 'Good', 'Good', 'Bad', 'Good', 'Good', 'Good', 'Good', 'Bad', 'Good', 'Good',\n",
    " 'Good', 'Good', 'Good', 'Good', 'Good', 'Good', 'Good', 'Good', 'Good', 'Bad',\n",
    " 'Good', 'Good', 'Good', 'Good', 'Good', 'Good', 'Good', 'Good', 'Bad', 'Bad', 'Bad',\n",
    " 'Good', 'Good', 'Good', 'Bad', 'Good', 'Good', 'Good', 'Good', 'Good', 'Bad',\n",
    " 'Good', 'Bad', 'Good', 'Good', 'Bad', 'Bad', 'Good', 'Good', 'Bad', 'Bad', 'Good',\n",
    " 'Good', 'Good', 'Good', 'Good', 'Bad', 'Bad', 'Good', 'Bad', 'Good', 'Good', 'Good',\n",
    " 'Good', 'Good', 'Good', 'Good', 'Bad', 'Good', 'Good', 'Bad', 'Bad', 'Good', 'Good',\n",
    " 'Bad', 'Good', 'Good']\n"
   ]
  },
  {
   "cell_type": "code",
   "execution_count": 74,
   "id": "4086b0c1",
   "metadata": {},
   "outputs": [],
   "source": [
    "all3 = ['Good', 'Good', 'Good', 'Good', 'Good', 'Good', 'Good', 'Bad', 'Bad', 'Good', 'Bad',\n",
    " 'Good', 'Good', 'Good', 'Good', 'Bad', 'Bad', 'Good', 'Good', 'Good', 'Good',\n",
    " 'Good', 'Good', 'Bad', 'Good', 'Good', 'Bad', 'Good', 'Good', 'Good', 'Good',\n",
    " 'Good', 'Good', 'Good', 'Good', 'Good', 'Good', 'Good', 'Bad', 'Good', 'Bad',\n",
    " 'Good', 'Good', 'Bad', 'Bad', 'Bad', 'Good', 'Good', 'Bad', 'Bad', 'Bad', 'Good',\n",
    " 'Good', 'Good', 'Good', 'Good', 'Good', 'Good', 'Good', 'Good', 'Good', 'Bad',\n",
    " 'Bad', 'Good', 'Bad', 'Good', 'Good', 'Good', 'Good', 'Good', 'Good', 'Good',\n",
    " 'Good', 'Good', 'Bad', 'Bad', 'Good', 'Good', 'Good', 'Bad', 'Good', 'Good', 'Good',\n",
    " 'Good', 'Good', 'Bad', 'Good', 'Good', 'Good', 'Good', 'Good', 'Bad', 'Good',\n",
    " 'Good', 'Bad', 'Bad', 'Bad', 'Good', 'Good', 'Good', 'Good', 'Bad', 'Good', 'Good',\n",
    " 'Good', 'Good', 'Good', 'Good', 'Bad', 'Bad', 'Bad', 'Good', 'Good', 'Good', 'Good',\n",
    " 'Good', 'Good', 'Good', 'Good', 'Good', 'Bad', 'Good', 'Good', 'Good', 'Good',\n",
    " 'Bad', 'Good', 'Good', 'Good', 'Good', 'Good', 'Good', 'Good', 'Good', 'Bad', 'Bad',\n",
    " 'Bad', 'Good', 'Good', 'Good', 'Bad', 'Good', 'Good', 'Good', 'Good', 'Good', 'Bad',\n",
    " 'Good', 'Bad', 'Good', 'Good', 'Good', 'Bad', 'Good', 'Good', 'Bad', 'Bad', 'Good',\n",
    " 'Good', 'Good', 'Good', 'Good', 'Bad', 'Bad', 'Bad', 'Bad', 'Good', 'Good', 'Good',\n",
    " 'Good', 'Good', 'Good', 'Bad', 'Bad', 'Good', 'Good', 'Bad', 'Bad', 'Good', 'Good',\n",
    " 'Bad', 'Good', 'Good']\n"
   ]
  },
  {
   "cell_type": "code",
   "execution_count": 36,
   "id": "1f000001",
   "metadata": {},
   "outputs": [
    {
     "data": {
      "text/plain": [
       "183"
      ]
     },
     "execution_count": 36,
     "metadata": {},
     "output_type": "execute_result"
    }
   ],
   "source": [
    "len(all)"
   ]
  },
  {
   "cell_type": "code",
   "execution_count": 75,
   "id": "78e905e9",
   "metadata": {},
   "outputs": [],
   "source": [
    "import pandas as pd"
   ]
  },
  {
   "cell_type": "code",
   "execution_count": 76,
   "id": "3de9162c",
   "metadata": {},
   "outputs": [],
   "source": [
    "df = pd.DataFrame()"
   ]
  },
  {
   "cell_type": "code",
   "execution_count": 21,
   "id": "48fc7e97",
   "metadata": {},
   "outputs": [],
   "source": []
  },
  {
   "cell_type": "code",
   "execution_count": 38,
   "id": "cd445c9a",
   "metadata": {},
   "outputs": [
    {
     "data": {
      "text/html": [
       "<div>\n",
       "<style scoped>\n",
       "    .dataframe tbody tr th:only-of-type {\n",
       "        vertical-align: middle;\n",
       "    }\n",
       "\n",
       "    .dataframe tbody tr th {\n",
       "        vertical-align: top;\n",
       "    }\n",
       "\n",
       "    .dataframe thead th {\n",
       "        text-align: right;\n",
       "    }\n",
       "</style>\n",
       "<table border=\"1\" class=\"dataframe\">\n",
       "  <thead>\n",
       "    <tr style=\"text-align: right;\">\n",
       "      <th></th>\n",
       "    </tr>\n",
       "  </thead>\n",
       "  <tbody>\n",
       "  </tbody>\n",
       "</table>\n",
       "</div>"
      ],
      "text/plain": [
       "Empty DataFrame\n",
       "Columns: []\n",
       "Index: []"
      ]
     },
     "execution_count": 38,
     "metadata": {},
     "output_type": "execute_result"
    }
   ],
   "source": [
    "df"
   ]
  },
  {
   "cell_type": "code",
   "execution_count": 77,
   "id": "d2251f7a",
   "metadata": {},
   "outputs": [],
   "source": [
    "df['GT'] = Y_test\n",
    "df['code2vec'] = code2vec\n",
    "df['codebert'] = codeBert\n",
    "df['sbert'] = sbert\n",
    "df['all'] = all3"
   ]
  },
  {
   "cell_type": "code",
   "execution_count": 43,
   "id": "0a2aea1a",
   "metadata": {},
   "outputs": [
    {
     "data": {
      "text/plain": [
       "183"
      ]
     },
     "execution_count": 43,
     "metadata": {},
     "output_type": "execute_result"
    }
   ],
   "source": [
    "len(df)"
   ]
  },
  {
   "cell_type": "code",
   "execution_count": 78,
   "id": "f2548581",
   "metadata": {},
   "outputs": [],
   "source": [
    "code2vecPerf = list()\n",
    "codebertPerf = list()\n",
    "sbertPerf = list()\n",
    "allPerf = list()"
   ]
  },
  {
   "cell_type": "code",
   "execution_count": 50,
   "id": "f2d5064d",
   "metadata": {},
   "outputs": [
    {
     "data": {
      "text/plain": [
       "'Good'"
      ]
     },
     "execution_count": 50,
     "metadata": {},
     "output_type": "execute_result"
    }
   ],
   "source": [
    "df['code2vec'].iloc[i]"
   ]
  },
  {
   "cell_type": "code",
   "execution_count": 79,
   "id": "73b650d7",
   "metadata": {},
   "outputs": [],
   "source": [
    "for i in range(0,len(df)):\n",
    "    if df['GT'].iloc[i] == df['code2vec'].iloc[i]:\n",
    "        code2vecPerf.append(1)\n",
    "    else:\n",
    "        code2vecPerf.append(0)\n",
    "        \n",
    "        \n",
    "    if df['GT'].iloc[i] == df['codebert'].iloc[i]:\n",
    "        codebertPerf.append(1)\n",
    "    else:\n",
    "        codebertPerf.append(0)\n",
    "        \n",
    "    if df['GT'].iloc[i] == df['sbert'].iloc[i]:\n",
    "        sbertPerf.append(1)\n",
    "    else:\n",
    "        sbertPerf.append(0)\n",
    "    if df['GT'].iloc[i] == df['all'].iloc[i]:\n",
    "        allPerf.append(1)\n",
    "    else:\n",
    "        allPerf.append(0)"
   ]
  },
  {
   "cell_type": "code",
   "execution_count": 66,
   "id": "f6300804",
   "metadata": {},
   "outputs": [
    {
     "data": {
      "text/plain": [
       "183"
      ]
     },
     "execution_count": 66,
     "metadata": {},
     "output_type": "execute_result"
    }
   ],
   "source": [
    "len(code2vecPerf)"
   ]
  },
  {
   "cell_type": "code",
   "execution_count": 80,
   "id": "0cf7fd36",
   "metadata": {},
   "outputs": [],
   "source": [
    "\n",
    "df['code2vecPerf'] = code2vecPerf\n",
    "df['codebertPerf'] = codebertPerf\n",
    "df['sbertPerf'] = sbertPerf\n",
    "df['allPerf'] = allPerf"
   ]
  },
  {
   "cell_type": "code",
   "execution_count": 81,
   "id": "8b5b89fd",
   "metadata": {},
   "outputs": [
    {
     "data": {
      "text/html": [
       "<div>\n",
       "<style scoped>\n",
       "    .dataframe tbody tr th:only-of-type {\n",
       "        vertical-align: middle;\n",
       "    }\n",
       "\n",
       "    .dataframe tbody tr th {\n",
       "        vertical-align: top;\n",
       "    }\n",
       "\n",
       "    .dataframe thead th {\n",
       "        text-align: right;\n",
       "    }\n",
       "</style>\n",
       "<table border=\"1\" class=\"dataframe\">\n",
       "  <thead>\n",
       "    <tr style=\"text-align: right;\">\n",
       "      <th></th>\n",
       "      <th>GT</th>\n",
       "      <th>code2vec</th>\n",
       "      <th>codebert</th>\n",
       "      <th>sbert</th>\n",
       "      <th>all</th>\n",
       "      <th>code2vecPerf</th>\n",
       "      <th>codebertPerf</th>\n",
       "      <th>sbertPerf</th>\n",
       "      <th>allPerf</th>\n",
       "    </tr>\n",
       "  </thead>\n",
       "  <tbody>\n",
       "    <tr>\n",
       "      <th>0</th>\n",
       "      <td>Good</td>\n",
       "      <td>Good</td>\n",
       "      <td>Good</td>\n",
       "      <td>Good</td>\n",
       "      <td>Good</td>\n",
       "      <td>1</td>\n",
       "      <td>1</td>\n",
       "      <td>1</td>\n",
       "      <td>1</td>\n",
       "    </tr>\n",
       "    <tr>\n",
       "      <th>1</th>\n",
       "      <td>Good</td>\n",
       "      <td>Good</td>\n",
       "      <td>Good</td>\n",
       "      <td>Good</td>\n",
       "      <td>Good</td>\n",
       "      <td>1</td>\n",
       "      <td>1</td>\n",
       "      <td>1</td>\n",
       "      <td>1</td>\n",
       "    </tr>\n",
       "    <tr>\n",
       "      <th>2</th>\n",
       "      <td>Good</td>\n",
       "      <td>Good</td>\n",
       "      <td>Good</td>\n",
       "      <td>Good</td>\n",
       "      <td>Good</td>\n",
       "      <td>1</td>\n",
       "      <td>1</td>\n",
       "      <td>1</td>\n",
       "      <td>1</td>\n",
       "    </tr>\n",
       "    <tr>\n",
       "      <th>3</th>\n",
       "      <td>Good</td>\n",
       "      <td>Good</td>\n",
       "      <td>Good</td>\n",
       "      <td>Good</td>\n",
       "      <td>Good</td>\n",
       "      <td>1</td>\n",
       "      <td>1</td>\n",
       "      <td>1</td>\n",
       "      <td>1</td>\n",
       "    </tr>\n",
       "    <tr>\n",
       "      <th>4</th>\n",
       "      <td>Good</td>\n",
       "      <td>Good</td>\n",
       "      <td>Good</td>\n",
       "      <td>Bad</td>\n",
       "      <td>Good</td>\n",
       "      <td>1</td>\n",
       "      <td>1</td>\n",
       "      <td>0</td>\n",
       "      <td>1</td>\n",
       "    </tr>\n",
       "    <tr>\n",
       "      <th>...</th>\n",
       "      <td>...</td>\n",
       "      <td>...</td>\n",
       "      <td>...</td>\n",
       "      <td>...</td>\n",
       "      <td>...</td>\n",
       "      <td>...</td>\n",
       "      <td>...</td>\n",
       "      <td>...</td>\n",
       "      <td>...</td>\n",
       "    </tr>\n",
       "    <tr>\n",
       "      <th>178</th>\n",
       "      <td>Good</td>\n",
       "      <td>Good</td>\n",
       "      <td>Good</td>\n",
       "      <td>Good</td>\n",
       "      <td>Good</td>\n",
       "      <td>1</td>\n",
       "      <td>1</td>\n",
       "      <td>1</td>\n",
       "      <td>1</td>\n",
       "    </tr>\n",
       "    <tr>\n",
       "      <th>179</th>\n",
       "      <td>Good</td>\n",
       "      <td>Good</td>\n",
       "      <td>Good</td>\n",
       "      <td>Good</td>\n",
       "      <td>Good</td>\n",
       "      <td>1</td>\n",
       "      <td>1</td>\n",
       "      <td>1</td>\n",
       "      <td>1</td>\n",
       "    </tr>\n",
       "    <tr>\n",
       "      <th>180</th>\n",
       "      <td>Bad</td>\n",
       "      <td>Bad</td>\n",
       "      <td>Good</td>\n",
       "      <td>Bad</td>\n",
       "      <td>Bad</td>\n",
       "      <td>1</td>\n",
       "      <td>0</td>\n",
       "      <td>1</td>\n",
       "      <td>1</td>\n",
       "    </tr>\n",
       "    <tr>\n",
       "      <th>181</th>\n",
       "      <td>Good</td>\n",
       "      <td>Good</td>\n",
       "      <td>Good</td>\n",
       "      <td>Good</td>\n",
       "      <td>Good</td>\n",
       "      <td>1</td>\n",
       "      <td>1</td>\n",
       "      <td>1</td>\n",
       "      <td>1</td>\n",
       "    </tr>\n",
       "    <tr>\n",
       "      <th>182</th>\n",
       "      <td>Good</td>\n",
       "      <td>Good</td>\n",
       "      <td>Good</td>\n",
       "      <td>Good</td>\n",
       "      <td>Good</td>\n",
       "      <td>1</td>\n",
       "      <td>1</td>\n",
       "      <td>1</td>\n",
       "      <td>1</td>\n",
       "    </tr>\n",
       "  </tbody>\n",
       "</table>\n",
       "<p>183 rows × 9 columns</p>\n",
       "</div>"
      ],
      "text/plain": [
       "       GT code2vec codebert sbert   all  code2vecPerf  codebertPerf  \\\n",
       "0    Good     Good     Good  Good  Good             1             1   \n",
       "1    Good     Good     Good  Good  Good             1             1   \n",
       "2    Good     Good     Good  Good  Good             1             1   \n",
       "3    Good     Good     Good  Good  Good             1             1   \n",
       "4    Good     Good     Good   Bad  Good             1             1   \n",
       "..    ...      ...      ...   ...   ...           ...           ...   \n",
       "178  Good     Good     Good  Good  Good             1             1   \n",
       "179  Good     Good     Good  Good  Good             1             1   \n",
       "180   Bad      Bad     Good   Bad   Bad             1             0   \n",
       "181  Good     Good     Good  Good  Good             1             1   \n",
       "182  Good     Good     Good  Good  Good             1             1   \n",
       "\n",
       "     sbertPerf  allPerf  \n",
       "0            1        1  \n",
       "1            1        1  \n",
       "2            1        1  \n",
       "3            1        1  \n",
       "4            0        1  \n",
       "..         ...      ...  \n",
       "178          1        1  \n",
       "179          1        1  \n",
       "180          1        1  \n",
       "181          1        1  \n",
       "182          1        1  \n",
       "\n",
       "[183 rows x 9 columns]"
      ]
     },
     "execution_count": 81,
     "metadata": {},
     "output_type": "execute_result"
    }
   ],
   "source": [
    "df"
   ]
  },
  {
   "cell_type": "code",
   "execution_count": 87,
   "id": "8710adb3",
   "metadata": {},
   "outputs": [
    {
     "name": "stdout",
     "output_type": "stream",
     "text": [
      "total test records\n",
      "183\n",
      "misclassified by 2\n",
      "24\n",
      "missclassified by 1\n",
      "41\n"
     ]
    }
   ],
   "source": [
    "count1True = 0\n",
    "count2True = 0\n",
    "for i in range(len(df)):\n",
    "    if df['code2vecPerf'].iloc[i] == 1 and df['codebertPerf'].iloc[i] == 1 and df['sbertPerf'].iloc[i]==1:\n",
    "        continue\n",
    "    elif df['code2vecPerf'].iloc[i] == 0 and df['codebertPerf'].iloc[i] == 0 and df['sbertPerf'].iloc[i]==0:\n",
    "        continue\n",
    "    else:\n",
    "        # misclassification by both\n",
    "        if df['code2vecPerf'].iloc[i] == 0 and df['codebertPerf'].iloc[i] == 0 and df['sbertPerf'].iloc[i]==1:\n",
    "            count1True += 1\n",
    "        elif df['code2vecPerf'].iloc[i] == 0 and df['codebertPerf'].iloc[i] == 1 and df['sbertPerf'].iloc[i]==0:\n",
    "            count1True += 1\n",
    "        elif df['code2vecPerf'].iloc[i] == 1 and df['codebertPerf'].iloc[i] == 0 and df['sbertPerf'].iloc[i]==0:\n",
    "            count1True += 1\n",
    "        # misclassification by 1\n",
    "        elif df['code2vecPerf'].iloc[i] == 1 and df['codebertPerf'].iloc[i] == 1 and df['sbertPerf'].iloc[i]==0:\n",
    "            count2True += 1\n",
    "        elif df['code2vecPerf'].iloc[i] == 0 and df['codebertPerf'].iloc[i] == 1 and df['sbertPerf'].iloc[i]==1:\n",
    "            count2True += 1\n",
    "        elif df['code2vecPerf'].iloc[i] == 1 and df['codebertPerf'].iloc[i] == 0 and df['sbertPerf'].iloc[i]==1:\n",
    "            count2True += 1\n",
    "print(\"total test records\")\n",
    "print(len(df))\n",
    "print(\"misclassified by 2\")\n",
    "print(count1True)\n",
    "print(\"missclassified by 1\")\n",
    "print(count2True)"
   ]
  },
  {
   "cell_type": "code",
   "execution_count": 89,
   "id": "d67b7ab1",
   "metadata": {},
   "outputs": [],
   "source": [
    "codebert = 0 ##\n",
    "sbert = 0 ##\n",
    "code2vec = 0 ##\n",
    "all3 = 0 ##\n",
    "codebertSbert = 0 ##\n",
    "codebertcode2vec = 0 ##\n",
    "codebertAll = 0 ##\n",
    "sbertCode2vec = 0 ##\n",
    "sbertAll = 0 ##\n",
    "code2vecAll = 0 ##\n",
    "codebertSbertCode2vec = 0 ##\n",
    "codebertSbertAll = 0 ##\n",
    "codebertCode2vecAll = 0 ##\n",
    "sbertCode2vecAll = 0\n",
    "codebertsbertcode2vecAll = 0 ##\n",
    "\n",
    "for i in range(len(df)):\n",
    "    if df['code2vecPerf'].iloc[i] == 1 and df['codebertPerf'].iloc[i] == 1 and df['sbertPerf'].iloc[i]==1 and df['allPerf'].iloc[i]==1:\n",
    "        codebertsbertcode2vecAll += 1\n",
    "    elif df['code2vecPerf'].iloc[i] == 0 and df['codebertPerf'].iloc[i] == 0 and df['sbertPerf'].iloc[i]==0 and df['allPerf'].iloc[i]==0:\n",
    "        continue\n",
    "    else:\n",
    "        # sbert\n",
    "        if df['code2vecPerf'].iloc[i] == 0 and df['codebertPerf'].iloc[i] == 0 and df['sbertPerf'].iloc[i]==1 and df['allPerf'].iloc[i]==0:\n",
    "            sbert += 1\n",
    "        # code2vec\n",
    "        if df['code2vecPerf'].iloc[i] == 1 and df['codebertPerf'].iloc[i] == 0 and df['sbertPerf'].iloc[i]==0 and df['allPerf'].iloc[i]==0:\n",
    "            code2vec += 1\n",
    "        # codebert\n",
    "        if df['code2vecPerf'].iloc[i] == 0 and df['codebertPerf'].iloc[i] == 1 and df['sbertPerf'].iloc[i]==0 and df['allPerf'].iloc[i]==0:\n",
    "            codebert += 1\n",
    "        # all\n",
    "        if df['code2vecPerf'].iloc[i] == 0 and df['codebertPerf'].iloc[i] == 0 and df['sbertPerf'].iloc[i]==0 and df['allPerf'].iloc[i]==1:\n",
    "            all3 += 1\n",
    "            \n",
    "        # code2vec + codebert\n",
    "        if df['code2vecPerf'].iloc[i] == 1 and df['codebertPerf'].iloc[i] == 1 and df['sbertPerf'].iloc[i]==0 and df['allPerf'].iloc[i]==0:\n",
    "            codebertcode2vec += 1\n",
    "        # codebert + sbert\n",
    "        if df['code2vecPerf'].iloc[i] == 0 and df['codebertPerf'].iloc[i] == 1 and df['sbertPerf'].iloc[i]==1 and df['allPerf'].iloc[i]==0:\n",
    "            codebertSbert += 1\n",
    "        # codebert + all\n",
    "        if df['code2vecPerf'].iloc[i] == 0 and df['codebertPerf'].iloc[i] == 1 and df['sbertPerf'].iloc[i]==0 and df['allPerf'].iloc[i]==1:\n",
    "            codebertAll += 1\n",
    "        # sbert + code2vec\n",
    "        if df['code2vecPerf'].iloc[i] == 1 and df['codebertPerf'].iloc[i] == 0 and df['sbertPerf'].iloc[i]==1 and df['allPerf'].iloc[i]==0:\n",
    "            sbertCode2vec += 1\n",
    "        # sbert + all    \n",
    "        if df['code2vecPerf'].iloc[i] == 0 and df['codebertPerf'].iloc[i] == 0 and df['sbertPerf'].iloc[i]==1 and df['allPerf'].iloc[i]==1:\n",
    "            sbertAll += 1\n",
    "        # code2vec + All\n",
    "        if df['code2vecPerf'].iloc[i] == 1 and df['codebertPerf'].iloc[i] == 0 and df['sbertPerf'].iloc[i]==0 and df['allPerf'].iloc[i]==1:\n",
    "            code2vecAll += 1\n",
    "        \n",
    "        #codebert + Sbert + Code2vec\n",
    "        if df['code2vecPerf'].iloc[i] == 1 and df['codebertPerf'].iloc[i] == 1 and df['sbertPerf'].iloc[i]==1 and df['allPerf'].iloc[i]==0:\n",
    "            codebertSbertCode2vec += 1\n",
    "        # codebert + Sbert + All\n",
    "        if df['code2vecPerf'].iloc[i] == 0 and df['codebertPerf'].iloc[i] == 1 and df['sbertPerf'].iloc[i]==1 and df['allPerf'].iloc[i]==1:\n",
    "            codebertSbertAll += 1\n",
    "        # codebert + Code2vec + All\n",
    "        if df['code2vecPerf'].iloc[i] == 1 and df['codebertPerf'].iloc[i] == 1 and df['sbertPerf'].iloc[i]==0 and df['allPerf'].iloc[i]==1:\n",
    "            codebertCode2vecAll += 1\n",
    "        # sbert + Code2vec + All\n",
    "        if df['code2vecPerf'].iloc[i] == 1 and df['codebertPerf'].iloc[i] == 0 and df['sbertPerf'].iloc[i]==1 and df['allPerf'].iloc[i]==1:\n",
    "            sbertCode2vecAll += 1\n",
    "\n",
    "description = list()\n",
    "count = list()\n",
    "        \n",
    "# print(\"total test records\")\n",
    "# print(len(df))\n",
    "# print(\"sbert\")\n",
    "# print(sbert)\n",
    "# print(\"code2vec\")\n",
    "# print(code2vec)\n",
    "# print(\"codebert\")\n",
    "# print(codebert)\n",
    "# print(\"combined\")\n",
    "# print(all3)\n",
    "# print(\"code2vec + codebert\")\n",
    "# print(codebertcode2vec)\n",
    "# print(\"codebert + sbert\")\n",
    "# print(codebertSbert)\n",
    "# print(\"codebert + combined\")\n",
    "# print(codebertAll)\n",
    "# print(\"sbert + code2vec\")\n",
    "# print(sbertCode2vec)\n",
    "# print(\"sbert + combined \")\n",
    "# print(sbertAll)\n",
    "# print(\"code2vec + combined\")\n",
    "# print(code2vecAll)\n",
    "# print(\"codebert + Sbert + Code2vec\")\n",
    "# print(codebertSbertCode2vec)\n",
    "# print(\"codebert + Sbert + combined\")\n",
    "# print(codebertSbertAll)\n",
    "# print(\"codebert + Code2vec + combined\")\n",
    "# print(codebertCode2vecAll)\n",
    "# print(\"sbert + Code2vec + combined\")\n",
    "# print(sbertCode2vecAll)\n",
    "# print(\"codebert + sbert + code2vec + combined\")\n",
    "# print(codebertsbertcode2vecAll)\n",
    "\n",
    "\n",
    "\n",
    "description.append(\"total test records\")\n",
    "count.append(len(df))\n",
    "description.append(\"sbert\")\n",
    "count.append(sbert)\n",
    "description.append(\"code2vec\")\n",
    "count.append(code2vec)\n",
    "description.append(\"codebert\")\n",
    "count.append(codebert)\n",
    "description.append(\"combined\")\n",
    "count.append(all3)\n",
    "description.append(\"code2vec + codebert\")\n",
    "count.append(codebertcode2vec)\n",
    "description.append(\"codebert + sbert\")\n",
    "count.append(codebertSbert)\n",
    "description.append(\"codebert + combined\")\n",
    "count.append(codebertAll)\n",
    "description.append(\"sbert + code2vec\")\n",
    "count.append(sbertCode2vec)\n",
    "description.append(\"sbert + combined \")\n",
    "count.append(sbertAll)\n",
    "description.append(\"code2vec + combined\")\n",
    "count.append(code2vecAll)\n",
    "description.append(\"codebert + Sbert + Code2vec\")\n",
    "count.append(codebertSbertCode2vec)\n",
    "description.append(\"codebert + Sbert + combined\")\n",
    "count.append(codebertSbertAll)\n",
    "description.append(\"codebert + Code2vec + combined\")\n",
    "count.append(codebertCode2vecAll)\n",
    "description.append(\"sbert + Code2vec + combined\")\n",
    "count.append(sbertCode2vecAll)\n",
    "description.append(\"codebert + sbert + code2vec + combined\")\n",
    "count.append(codebertsbertcode2vecAll)"
   ]
  },
  {
   "cell_type": "code",
   "execution_count": 91,
   "id": "d9d79f59",
   "metadata": {},
   "outputs": [],
   "source": [
    "dfCheckResultModelwise = pd.DataFrame()"
   ]
  },
  {
   "cell_type": "code",
   "execution_count": 92,
   "id": "235cef3a",
   "metadata": {},
   "outputs": [],
   "source": [
    "dfCheckResultModelwise['Desc'] = description\n",
    "dfCheckResultModelwise['count'] = count"
   ]
  },
  {
   "cell_type": "code",
   "execution_count": 93,
   "id": "eab3da71",
   "metadata": {},
   "outputs": [],
   "source": [
    "dfCheckResultModelwise.to_excel(\"CorrectClassificationModelwise.xlsx\")"
   ]
  },
  {
   "cell_type": "code",
   "execution_count": 16,
   "id": "47fe09c3",
   "metadata": {},
   "outputs": [],
   "source": [
    "df.to_excel(\"misclassification.xlsx\")"
   ]
  },
  {
   "cell_type": "code",
   "execution_count": null,
   "id": "f89edf22",
   "metadata": {},
   "outputs": [],
   "source": []
  }
 ],
 "metadata": {
  "kernelspec": {
   "display_name": "Python 3 (ipykernel)",
   "language": "python",
   "name": "python3"
  },
  "language_info": {
   "codemirror_mode": {
    "name": "ipython",
    "version": 3
   },
   "file_extension": ".py",
   "mimetype": "text/x-python",
   "name": "python",
   "nbconvert_exporter": "python",
   "pygments_lexer": "ipython3",
   "version": "3.7.5"
  }
 },
 "nbformat": 4,
 "nbformat_minor": 5
}
